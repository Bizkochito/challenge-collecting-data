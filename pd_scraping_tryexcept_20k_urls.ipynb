{
 "cells": [
  {
   "cell_type": "code",
   "execution_count": null,
   "id": "98fa6422",
   "metadata": {},
   "outputs": [],
   "source": [
    "import requests\n",
    "import json\n",
    "from bs4 import BeautifulSoup\n",
    "from typing import List\n",
    "import time\n",
    "from concurrent.futures import ThreadPoolExecutor\n",
    "from requests.adapters import HTTPAdapter\n",
    "from urllib3.util.retry import Retry\n",
    "\n",
    "def extract_urls_lists(search_page_url: str) -> List[str]:\n",
    "    response = requests.get(search_page_url, params = {})\n",
    "    soup = BeautifulSoup(response.text, 'html.parser')\n",
    "\n",
    "    list_of_urls=[]\n",
    "\n",
    "    for article in soup.find_all('iw-search-card-rendered'):\n",
    "        for link in article.find_all('a'):\n",
    "            list_of_urls.append(link.get('href'))\n",
    "    return list_of_urls\n",
    "\n",
    "def extract_x_urls(number_of_urls: int=30) -> List[str]:\n",
    "    immo_base_url = \"https://www.immoweb.be/en/search/house/for-sale?countries=BE&page=\"\n",
    "    immo_end_url = \"&orderBy=relevance\"\n",
    "    searchpages_urls_list =[]\n",
    "\n",
    "    for index in range(1,round(min(334,number_of_urls/30 + 1))):\n",
    "        full_url = immo_base_url + str(index) + immo_end_url\n",
    "        searchpages_urls_list.append(full_url)\n",
    "    \n",
    "    full_urls_list =[]\n",
    "\n",
    "    with ThreadPoolExecutor() as pool:\n",
    "        full_urls_list=list(pool.map(extract_urls_lists, searchpages_urls_list))  \n",
    "\n",
    "    if number_of_urls>9990:\n",
    "        immo_base_url = \"https://www.immoweb.be/en/search/apartment/for-sale?countries=BE&page=\"\n",
    "        immo_end_url = \"&orderBy=relevance\"\n",
    "        searchpages_urls_list =[]\n",
    "\n",
    "        for index in range(1,round(min(334,(number_of_urls-9990)/30 + 1))):\n",
    "            full_url = immo_base_url + str(index) + immo_end_url\n",
    "            searchpages_urls_list.append(full_url)\n",
    "\n",
    "        with ThreadPoolExecutor() as pool:\n",
    "            full_urls_list+=list(pool.map(extract_urls_lists, searchpages_urls_list))  \n",
    "            \n",
    "    return list(set(sum(full_urls_list,[])))\n"
   ]
  },
  {
   "cell_type": "code",
   "execution_count": null,
   "id": "58f872d7-d8b9-4cad-b97d-e3a503895ce3",
   "metadata": {},
   "outputs": [],
   "source": [
    "import requests\n",
    "from bs4 import BeautifulSoup\n",
    "import json\n",
    "import pandas as pd\n",
    "\n",
    "def make_one_data_frame(url):\n",
    "  try:\n",
    "    response = requests.get(url)\n",
    "    test_page = response.text\n",
    "\n",
    "    dfs = pd.read_html(test_page)\n",
    "\n",
    "    full_df = pd.concat(dfs).dropna(thresh=2).T\n",
    "    full_df.columns = full_df.iloc[0]\n",
    "    full_df = full_df[1:]\n",
    "    full_df = full_df.loc[:, full_df.columns.isin(['Neighbourhood or locality','Building condition','Number of frontages','Living area','Kitchen type','Bedrooms','Bathrooms','Furnished','Surface of the plot','Garden surface','Swimming pool','Price','Terrace'])]\n",
    "\n",
    "    return full_df\n",
    "  except:\n",
    "    return ['Neighbourhood or locality','Building condition','Number of frontages','Living area','Kitchen type','Bedrooms','Bathrooms','Furnished','Surface of the plot','Garden surface','Swimming pool','Price','Terrace']"
   ]
  },
  {
   "cell_type": "code",
   "execution_count": null,
   "id": "7a6fb071",
   "metadata": {},
   "outputs": [],
   "source": [
    "list_of_urls = extract_x_urls(15000)\n",
    "print('list ready')"
   ]
  },
  {
   "cell_type": "code",
   "execution_count": null,
   "id": "695cd89d",
   "metadata": {},
   "outputs": [],
   "source": [
    "dataframes_list = []\n",
    "with ThreadPoolExecutor() as pool:\n",
    "    results = list(pool.map(make_one_data_frame, list_of_urls[1:10000]))\n",
    "    for result in results:\n",
    "        dataframes_list.append(result)\n",
    "\n",
    "index = 0\n",
    "for element in dataframes_list:\n",
    "    if type(element) != pandas.core.frame.DataFrame:\n",
    "        dataframes_list.pop(index)\n",
    "    index += 1\n",
    "    \n",
    "full_df = pd.concat(dataframes_list).reset_index(drop=True)\n",
    "full_df.dropna(thresh=2,inplace=True)\n",
    "\n",
    "print('done extracting')\n",
    "\n",
    "full_df.to_csv(\"df.csv\")\n",
    "#full_df"
   ]
  }
 ],
 "metadata": {
  "kernelspec": {
   "display_name": "Python 3 (ipykernel)",
   "language": "python",
   "name": "python3"
  },
  "language_info": {
   "codemirror_mode": {
    "name": "ipython",
    "version": 3
   },
   "file_extension": ".py",
   "mimetype": "text/x-python",
   "name": "python",
   "nbconvert_exporter": "python",
   "pygments_lexer": "ipython3",
   "version": "3.11.3"
  }
 },
 "nbformat": 4,
 "nbformat_minor": 5
}
